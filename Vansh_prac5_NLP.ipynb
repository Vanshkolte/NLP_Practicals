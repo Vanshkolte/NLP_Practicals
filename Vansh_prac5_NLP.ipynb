{
  "nbformat": 4,
  "nbformat_minor": 0,
  "metadata": {
    "colab": {
      "provenance": []
    },
    "kernelspec": {
      "name": "python3",
      "display_name": "Python 3"
    },
    "language_info": {
      "name": "python"
    }
  },
  "cells": [
    {
      "cell_type": "code",
      "execution_count": null,
      "metadata": {
        "colab": {
          "base_uri": "https://localhost:8080/"
        },
        "id": "504zxmsr91ww",
        "outputId": "9a892dbd-6467-4804-f5c0-965947df2629"
      },
      "outputs": [
        {
          "output_type": "stream",
          "name": "stderr",
          "text": [
            "[nltk_data] Downloading package wordnet to /root/nltk_data...\n",
            "[nltk_data]   Package wordnet is already up-to-date!\n"
          ]
        }
      ],
      "source": [
        "import nltk\n",
        "from nltk.corpus import wordnet\n",
        "\n",
        "\n",
        "nltk.download('wordnet')\n",
        "\n",
        "\n",
        "def get_synonyms_antonyms(word):\n",
        "\n",
        "  synonyms = set()\n",
        "  antonyms = set()\n",
        "\n",
        "  for synset in wordnet.synsets(word):\n",
        "    for lemma in synset.lemmas():\n",
        "      synonyms.add(lemma.name())\n",
        "      if lemma.antonyms():\n",
        "        antonyms.add(lemma.antonyms()[0].name())\n",
        "\n",
        "  return synonyms, antonyms"
      ]
    },
    {
      "cell_type": "code",
      "source": [
        "  word = \"sad\"\n",
        "\n",
        "  synonyms, antonyms = get_synonyms_antonyms(word)\n",
        "  print(f\"Synonyms of '{word}': {synonyms}\")\n",
        "  print(f\"Antonyms of '{word}': {antonyms}\")"
      ],
      "metadata": {
        "colab": {
          "base_uri": "https://localhost:8080/"
        },
        "id": "ZVr627lxAScm",
        "outputId": "5f39b383-e10b-4cb6-9115-6143fbdeeb4a"
      },
      "execution_count": null,
      "outputs": [
        {
          "output_type": "stream",
          "name": "stdout",
          "text": [
            "Synonyms of 'sad': {'pitiful', 'sorry', 'distressing', 'lamentable', 'deplorable', 'sad'}\n",
            "Antonyms of 'sad': {'glad'}\n"
          ]
        }
      ]
    },
    {
      "cell_type": "code",
      "source": [
        "import nltk\n",
        "from nltk.corpus import wordnet\n",
        "from nltk.tokenize import word_tokenize\n",
        "from nltk.stem import WordNetLemmatizer\n",
        "\n",
        "nltk.download('punkt')\n",
        "nltk.download('averaged_perceptron_tagger')\n",
        "nltk.download('averaged_perceptron_tagger_eng')\n",
        "nltk.download('wordnet')\n",
        "\n",
        "def get_synonyms_antonyms(word):\n",
        "    synonyms = set()\n",
        "    antonyms = set()\n",
        "\n",
        "    for syn in wordnet.synsets(word):\n",
        "        for lemma in syn.lemmas():\n",
        "            synonyms.add(lemma.name())\n",
        "            if lemma.antonyms():\n",
        "                antonyms.add(lemma.antonyms()[0].name())\n",
        "\n",
        "    return list(synonyms), list(antonyms)\n",
        "\n",
        "def pos_tagging_and_synonyms_antonym(sentence):\n",
        "    tokens = word_tokenize(sentence)\n",
        "    pos_tags = nltk.pos_tag(tokens)\n",
        "\n",
        "    word_info = {}\n",
        "\n",
        "    for word, pos in pos_tags:  # Fixed variable name from tagged_words to pos_tags\n",
        "        synonyms, antonyms = get_synonyms_antonyms(word)\n",
        "        word_info[word] = {\"pos\": pos, \"synonyms\": synonyms, \"antonyms\": antonyms}\n",
        "\n",
        "    return word_info\n",
        "\n",
        "sentence = \"Use this link to register on nvidia\"\n",
        "result = pos_tagging_and_synonyms_antonym(sentence)\n",
        "print(result)\n",
        "\n"
      ],
      "metadata": {
        "colab": {
          "base_uri": "https://localhost:8080/"
        },
        "id": "wsLGDPGPAs5c",
        "outputId": "8135a6a3-5f2c-431d-8d85-2ea8a08089c2"
      },
      "execution_count": null,
      "outputs": [
        {
          "output_type": "stream",
          "name": "stderr",
          "text": [
            "[nltk_data] Downloading package punkt to /root/nltk_data...\n",
            "[nltk_data]   Package punkt is already up-to-date!\n",
            "[nltk_data] Downloading package averaged_perceptron_tagger to\n",
            "[nltk_data]     /root/nltk_data...\n",
            "[nltk_data]   Package averaged_perceptron_tagger is already up-to-\n",
            "[nltk_data]       date!\n",
            "[nltk_data] Downloading package averaged_perceptron_tagger_eng to\n",
            "[nltk_data]     /root/nltk_data...\n",
            "[nltk_data]   Unzipping taggers/averaged_perceptron_tagger_eng.zip.\n",
            "[nltk_data] Downloading package wordnet to /root/nltk_data...\n",
            "[nltk_data]   Package wordnet is already up-to-date!\n"
          ]
        },
        {
          "output_type": "stream",
          "name": "stdout",
          "text": [
            "{'Use': {'pos': 'VB', 'synonyms': ['usage', 'consumption', 'purpose', 'expend', 'role', 'exercise', 'utilise', 'use_of_goods_and_services', 'apply', 'utilization', 'manipulation', 'habituate', 'usance', 'function', 'practice', 'economic_consumption', 'habit', 'utilize', 'use', 'enjoyment', 'utilisation', 'employment', 'employ'], 'antonyms': []}, 'this': {'pos': 'DT', 'synonyms': [], 'antonyms': []}, 'link': {'pos': 'NN', 'synonyms': ['tie', 'connect', 'join', 'colligate', 'liaison', 'data_link', 'nexus', 'inter-group_communication', 'connexion', 'linkup', 'tie-in', 'associate', 'link', 'contact', 'relate', 'yoke', 'connectedness', 'link_up', 'connection', 'radio_link', 'unite', 'tie_in'], 'antonyms': ['disconnect', 'dissociate', 'disconnectedness']}, 'to': {'pos': 'TO', 'synonyms': [], 'antonyms': []}, 'register': {'pos': 'VB', 'synonyms': ['read', 'show', 'registry', 'record', 'register', 'cross-file', 'file', 'cash_register'], 'antonyms': []}, 'on': {'pos': 'IN', 'synonyms': ['on', 'along'], 'antonyms': ['off']}, 'nvidia': {'pos': 'NN', 'synonyms': [], 'antonyms': []}}\n"
          ]
        }
      ]
    },
    {
      "cell_type": "code",
      "source": [
        "for word,info in result.items():\n",
        "    print(f\"Word: {word} ,Pos: {info['pos']}\")\n",
        "    print(f\"Synonyms: {info['synonyms']}\")\n",
        "    print(f\"Antonyms: {info['antonyms']}\")"
      ],
      "metadata": {
        "colab": {
          "base_uri": "https://localhost:8080/"
        },
        "id": "r1x8AxoKCqF1",
        "outputId": "35909cdd-68c8-4ca7-dcdb-20787a1ca4c1"
      },
      "execution_count": null,
      "outputs": [
        {
          "output_type": "stream",
          "name": "stdout",
          "text": [
            "Word: Use ,Pos: VB\n",
            "Synonyms: ['usage', 'consumption', 'purpose', 'expend', 'role', 'exercise', 'utilise', 'use_of_goods_and_services', 'apply', 'utilization', 'manipulation', 'habituate', 'usance', 'function', 'practice', 'economic_consumption', 'habit', 'utilize', 'use', 'enjoyment', 'utilisation', 'employment', 'employ']\n",
            "Antonyms: []\n",
            "Word: this ,Pos: DT\n",
            "Synonyms: []\n",
            "Antonyms: []\n",
            "Word: link ,Pos: NN\n",
            "Synonyms: ['tie', 'connect', 'join', 'colligate', 'liaison', 'data_link', 'nexus', 'inter-group_communication', 'connexion', 'linkup', 'tie-in', 'associate', 'link', 'contact', 'relate', 'yoke', 'connectedness', 'link_up', 'connection', 'radio_link', 'unite', 'tie_in']\n",
            "Antonyms: ['disconnect', 'dissociate', 'disconnectedness']\n",
            "Word: to ,Pos: TO\n",
            "Synonyms: []\n",
            "Antonyms: []\n",
            "Word: register ,Pos: VB\n",
            "Synonyms: ['read', 'show', 'registry', 'record', 'register', 'cross-file', 'file', 'cash_register']\n",
            "Antonyms: []\n",
            "Word: on ,Pos: IN\n",
            "Synonyms: ['on', 'along']\n",
            "Antonyms: ['off']\n",
            "Word: nvidia ,Pos: NN\n",
            "Synonyms: []\n",
            "Antonyms: []\n"
          ]
        }
      ]
    },
    {
      "cell_type": "code",
      "source": [],
      "metadata": {
        "id": "ePOWMMcXDrmD"
      },
      "execution_count": null,
      "outputs": []
    }
  ]
}