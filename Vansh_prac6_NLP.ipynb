{
  "nbformat": 4,
  "nbformat_minor": 0,
  "metadata": {
    "colab": {
      "provenance": []
    },
    "kernelspec": {
      "name": "python3",
      "display_name": "Python 3"
    },
    "language_info": {
      "name": "python"
    }
  },
  "cells": [
    {
      "cell_type": "code",
      "execution_count": 1,
      "metadata": {
        "colab": {
          "base_uri": "https://localhost:8080/"
        },
        "id": "504zxmsr91ww",
        "outputId": "94a4f862-a028-490f-e45d-73bab982cf05"
      },
      "outputs": [
        {
          "output_type": "stream",
          "name": "stderr",
          "text": [
            "[nltk_data] Downloading package wordnet to /root/nltk_data...\n"
          ]
        }
      ],
      "source": [
        "import nltk\n",
        "from nltk.corpus import wordnet\n",
        "\n",
        "\n",
        "nltk.download('wordnet')\n",
        "\n",
        "\n",
        "def get_synonyms_antonyms(word):\n",
        "\n",
        "  synonyms = set()\n",
        "  antonyms = set()\n",
        "\n",
        "  for synset in wordnet.synsets(word):\n",
        "    for lemma in synset.lemmas():\n",
        "      synonyms.add(lemma.name())\n",
        "      if lemma.antonyms():\n",
        "        antonyms.add(lemma.antonyms()[0].name())\n",
        "\n",
        "  return synonyms, antonyms"
      ]
    },
    {
      "cell_type": "code",
      "source": [
        "  word = \"sad\"\n",
        "\n",
        "  synonyms, antonyms = get_synonyms_antonyms(word)\n",
        "  print(f\"Synonyms of '{word}': {synonyms}\")\n",
        "  print(f\"Antonyms of '{word}': {antonyms}\")"
      ],
      "metadata": {
        "colab": {
          "base_uri": "https://localhost:8080/"
        },
        "id": "ZVr627lxAScm",
        "outputId": "6314ab05-ab74-4815-832c-10babb2ac2d3"
      },
      "execution_count": 14,
      "outputs": [
        {
          "output_type": "stream",
          "name": "stdout",
          "text": [
            "Synonyms of 'sad': ['distressing', 'deplorable', 'lamentable', 'sorry', 'pitiful', 'sad']\n",
            "Antonyms of 'sad': ['glad']\n"
          ]
        }
      ]
    },
    {
      "cell_type": "code",
      "source": [
        "import nltk\n",
        "from nltk.corpus import wordnet\n",
        "from nltk.tokenize import word_tokenize\n",
        "from nltk.stem import WordNetLemmatizer\n",
        "\n",
        "nltk.download('punkt')\n",
        "nltk.download('punkt_tab')\n",
        "nltk.download('averaged_perceptron_tagger')\n",
        "nltk.download('averaged_perceptron_tagger_eng')\n",
        "nltk.download('wordnet')\n",
        "\n",
        "def get_synonyms_antonyms(word):\n",
        "    synonyms = set()\n",
        "    antonyms = set()\n",
        "\n",
        "    for syn in wordnet.synsets(word):\n",
        "        for lemma in syn.lemmas():\n",
        "            synonyms.add(lemma.name())\n",
        "            if lemma.antonyms():\n",
        "                antonyms.add(lemma.antonyms()[0].name())\n",
        "\n",
        "    return list(synonyms), list(antonyms)\n",
        "\n",
        "def pos_tagging_and_synonyms_antonym(sentence):\n",
        "    tokens = word_tokenize(sentence)\n",
        "    pos_tags = nltk.pos_tag(tokens)\n",
        "\n",
        "    word_info = {}\n",
        "\n",
        "    for word, pos in pos_tags:  # Fixed variable name from tagged_words to pos_tags\n",
        "        synonyms, antonyms = get_synonyms_antonyms(word)\n",
        "        word_info[word] = {\"pos\": pos, \"synonyms\": synonyms, \"antonyms\": antonyms}\n",
        "\n",
        "    return word_info\n",
        "\n",
        "sentence = \"Use this link to register on nvidia\"\n",
        "result = pos_tagging_and_synonyms_antonym(sentence)\n",
        "print(result)\n",
        "\n"
      ],
      "metadata": {
        "colab": {
          "base_uri": "https://localhost:8080/"
        },
        "id": "wsLGDPGPAs5c",
        "outputId": "44cfa8c9-0a00-43ce-bd4d-83e7e0ed56df"
      },
      "execution_count": 6,
      "outputs": [
        {
          "output_type": "stream",
          "name": "stderr",
          "text": [
            "[nltk_data] Downloading package punkt to /root/nltk_data...\n",
            "[nltk_data]   Package punkt is already up-to-date!\n",
            "[nltk_data] Downloading package punkt_tab to /root/nltk_data...\n",
            "[nltk_data]   Unzipping tokenizers/punkt_tab.zip.\n",
            "[nltk_data] Downloading package averaged_perceptron_tagger to\n",
            "[nltk_data]     /root/nltk_data...\n",
            "[nltk_data]   Package averaged_perceptron_tagger is already up-to-\n",
            "[nltk_data]       date!\n",
            "[nltk_data] Downloading package averaged_perceptron_tagger_eng to\n",
            "[nltk_data]     /root/nltk_data...\n",
            "[nltk_data]   Package averaged_perceptron_tagger_eng is already up-to-\n",
            "[nltk_data]       date!\n",
            "[nltk_data] Downloading package wordnet to /root/nltk_data...\n",
            "[nltk_data]   Package wordnet is already up-to-date!\n"
          ]
        },
        {
          "output_type": "stream",
          "name": "stdout",
          "text": [
            "{'Use': {'pos': 'VB', 'synonyms': ['usance', 'role', 'habit', 'utilization', 'economic_consumption', 'manipulation', 'use', 'utilize', 'function', 'utilise', 'use_of_goods_and_services', 'employ', 'usage', 'exercise', 'habituate', 'purpose', 'consumption', 'utilisation', 'employment', 'expend', 'enjoyment', 'apply', 'practice'], 'antonyms': []}, 'this': {'pos': 'DT', 'synonyms': [], 'antonyms': []}, 'link': {'pos': 'NN', 'synonyms': ['linkup', 'link', 'connectedness', 'yoke', 'relate', 'liaison', 'join', 'tie-in', 'nexus', 'data_link', 'colligate', 'tie_in', 'connexion', 'contact', 'radio_link', 'associate', 'link_up', 'inter-group_communication', 'tie', 'connection', 'unite', 'connect'], 'antonyms': ['disconnectedness', 'disconnect', 'dissociate']}, 'to': {'pos': 'TO', 'synonyms': [], 'antonyms': []}, 'register': {'pos': 'VB', 'synonyms': ['show', 'file', 'cross-file', 'cash_register', 'registry', 'register', 'read', 'record'], 'antonyms': []}, 'on': {'pos': 'IN', 'synonyms': ['along', 'on'], 'antonyms': ['off']}, 'nvidia': {'pos': 'NN', 'synonyms': [], 'antonyms': []}}\n"
          ]
        }
      ]
    },
    {
      "cell_type": "code",
      "source": [
        "for word,info in result.items():\n",
        "    print(f\"Word: {word} ,Pos: {info['pos']}\")\n",
        "    print(f\"Synonyms: {info['synonyms']}\")\n",
        "    print(f\"Antonyms: {info['antonyms']}\")"
      ],
      "metadata": {
        "colab": {
          "base_uri": "https://localhost:8080/"
        },
        "id": "r1x8AxoKCqF1",
        "outputId": "673cd33f-a030-4ddb-ab13-c6f652b9cd87"
      },
      "execution_count": 7,
      "outputs": [
        {
          "output_type": "stream",
          "name": "stdout",
          "text": [
            "Word: Use ,Pos: VB\n",
            "Synonyms: ['usance', 'role', 'habit', 'utilization', 'economic_consumption', 'manipulation', 'use', 'utilize', 'function', 'utilise', 'use_of_goods_and_services', 'employ', 'usage', 'exercise', 'habituate', 'purpose', 'consumption', 'utilisation', 'employment', 'expend', 'enjoyment', 'apply', 'practice']\n",
            "Antonyms: []\n",
            "Word: this ,Pos: DT\n",
            "Synonyms: []\n",
            "Antonyms: []\n",
            "Word: link ,Pos: NN\n",
            "Synonyms: ['linkup', 'link', 'connectedness', 'yoke', 'relate', 'liaison', 'join', 'tie-in', 'nexus', 'data_link', 'colligate', 'tie_in', 'connexion', 'contact', 'radio_link', 'associate', 'link_up', 'inter-group_communication', 'tie', 'connection', 'unite', 'connect']\n",
            "Antonyms: ['disconnectedness', 'disconnect', 'dissociate']\n",
            "Word: to ,Pos: TO\n",
            "Synonyms: []\n",
            "Antonyms: []\n",
            "Word: register ,Pos: VB\n",
            "Synonyms: ['show', 'file', 'cross-file', 'cash_register', 'registry', 'register', 'read', 'record']\n",
            "Antonyms: []\n",
            "Word: on ,Pos: IN\n",
            "Synonyms: ['along', 'on']\n",
            "Antonyms: ['off']\n",
            "Word: nvidia ,Pos: NN\n",
            "Synonyms: []\n",
            "Antonyms: []\n"
          ]
        }
      ]
    },
    {
      "cell_type": "code",
      "source": [],
      "metadata": {
        "id": "ePOWMMcXDrmD"
      },
      "execution_count": null,
      "outputs": []
    }
  ]
}